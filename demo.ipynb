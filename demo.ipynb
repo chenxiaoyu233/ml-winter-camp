{
 "cells": [
  {
   "cell_type": "code",
   "execution_count": 15,
   "metadata": {},
   "outputs": [],
   "source": [
    "import os\n",
    "os.environ['KMP_DUPLICATE_LIB_OK']='True'\n",
    "os.environ['TF_CPP_MIN_LOG_LEVEL'] = '2'\n",
    "import tensorflow as tf\n",
    "from tensorflow import keras\n",
    "\n",
    "tf.set_random_seed(1234)\n",
    "\n",
    "from log_utils import get_logger\n",
    "LOGGER = get_logger(\"demos\")\n",
    "\n",
    "MAX_LENGTH = 400\n",
    "\n",
    "import pickle\n",
    "\n",
    "MBTI_pos = ['I', 'N', 'T', 'J']\n",
    "MBTI_neg = ['E', 'S', 'F', 'P']\n",
    "\n",
    "def output_persenality(persenality, original=False):\n",
    "    MBTI_tag = \"\"\n",
    "    for i in range(4):\n",
    "        MBTI_tag += MBTI_pos[i] if persenality[0][i] > 0.5 else MBTI_neg[i]\n",
    "    if original:\n",
    "        print(\"\\nYour MBTI type maybe: {}\".format(MBTI_tag))\n",
    "        print(\"WHERE\")\n",
    "        for t in range(4):\n",
    "            if persenality[0][t] > 0.5:\n",
    "                print(\"\\t{}:({}%)\".format(MBTI_pos[t], int(100*persenality[0][t])))\n",
    "            else:\n",
    "                print(\"\\t{}:({}%)\".format(MBTI_neg[t], int(100*(1-persenality[0][t]))))\n"
   ]
  },
  {
   "cell_type": "code",
   "execution_count": null,
   "metadata": {},
   "outputs": [],
   "source": [
    "model = keras.models.load_model(\"cnn16seq.h5\")\n",
    "tokenizer = pickle.load(open(\"tokenizer.p\", \"rb\"))"
   ]
  },
  {
   "cell_type": "code",
   "execution_count": 22,
   "metadata": {},
   "outputs": [
    {
     "name": "stdout",
     "output_type": "stream",
     "text": [
      "Please Input a sentence: Once a bug re- port is received and verified, the software maintenance team would read the textual description of the bug report to locate the potential buggy source files in the source code, and assign appropriate developer to fix the bug accordingly. However, for large and evolving software, the maintenance team may receive a large number of bug reports over a period of time and it is costly to manually locate the potential buggy source files based on bug reports.\n",
      "Your MBTI type maybe: INFP\n",
      "WHERE\n",
      "\tI:(75%)\n",
      "\tN:(85%)\n",
      "\tF:(50%)\n",
      "\tP:(53%)\n",
      "\n",
      "\n",
      "In 1th dimension, the sentense looks like:\n",
      "\t\u001b[38;2;98;0;0monce\u001b[39m \u001b[38;2;106;0;0ma\u001b[39m \u001b[38;2;99;0;0mbug\u001b[39m \u001b[38;2;103;0;0mre\u001b[39m \u001b[38;2;108;0;0mport\u001b[39m \u001b[38;2;94;0;0mis\u001b[39m \u001b[38;2;94;0;0mreceived\u001b[39m \u001b[38;2;102;0;0mand\u001b[39m \u001b[38;2;104;0;0mverified\u001b[39m \u001b[38;2;103;0;0mthe\u001b[39m \u001b[38;2;100;0;0msoftware\u001b[39m \u001b[38;2;106;0;0mmaintenance\u001b[39m \u001b[38;2;102;0;0mteam\u001b[39m \u001b[38;2;111;0;0mwould\u001b[39m \u001b[38;2;107;0;0mread\u001b[39m \u001b[38;2;111;0;0mthe\u001b[39m \u001b[38;2;100;0;0mtextual\u001b[39m \u001b[38;2;131;0;0mdescription\u001b[39m \u001b[38;2;109;0;0mof\u001b[39m \u001b[38;2;99;0;0mthe\u001b[39m \u001b[38;2;95;0;0mbug\u001b[39m \u001b[38;2;105;0;0mreport\u001b[39m \u001b[38;2;131;0;0mto\u001b[39m \u001b[38;2;79;0;0mlocate\u001b[39m \u001b[38;2;155;0;0mthe\u001b[39m \u001b[38;2;144;0;0mpotential\u001b[39m \u001b[38;2;60;0;0mbuggy\u001b[39m \u001b[38;2;71;0;0msource\u001b[39m \u001b[38;2;69;0;0mfiles\u001b[39m \u001b[38;2;132;0;0min\u001b[39m \u001b[38;2;141;0;0mthe\u001b[39m \u001b[38;2;85;0;0msource\u001b[39m \u001b[38;2;107;0;0mcode\u001b[39m \u001b[38;2;101;0;0mand\u001b[39m \u001b[38;2;83;0;0massign\u001b[39m \u001b[38;2;99;0;0mappropriate\u001b[39m \u001b[38;2;102;0;0mdeveloper\u001b[39m \u001b[38;2;105;0;0mto\u001b[39m \u001b[38;2;111;0;0mfix\u001b[39m \u001b[38;2;69;0;0mthe\u001b[39m \u001b[38;2;90;0;0mbug\u001b[39m \u001b[38;2;109;0;0maccordingly\u001b[39m \u001b[38;2;95;0;0mhowever\u001b[39m \u001b[38;2;90;0;0mfor\u001b[39m \u001b[38;2;100;0;0mlarge\u001b[39m \u001b[38;2;102;0;0mand\u001b[39m \u001b[38;2;93;0;0mevolving\u001b[39m \u001b[38;2;111;0;0msoftware\u001b[39m \u001b[38;2;103;0;0mthe\u001b[39m \u001b[38;2;95;0;0mmaintenance\u001b[39m \u001b[38;2;101;0;0mteam\u001b[39m \u001b[38;2;105;0;0mmay\u001b[39m \u001b[38;2;97;0;0mreceive\u001b[39m \u001b[38;2;119;0;0ma\u001b[39m \u001b[38;2;100;0;0mlarge\u001b[39m \u001b[38;2;108;0;0mnumber\u001b[39m \u001b[38;2;150;0;0mof\u001b[39m \u001b[38;2;107;0;0mbug\u001b[39m \u001b[38;2;93;0;0mreports\u001b[39m \u001b[38;2;95;0;0mover\u001b[39m \u001b[38;2;113;0;0ma\u001b[39m \u001b[38;2;100;0;0mperiod\u001b[39m \u001b[38;2;86;0;0mof\u001b[39m \u001b[38;2;95;0;0mtime\u001b[39m \u001b[38;2;98;0;0mand\u001b[39m \u001b[38;2;101;0;0mit\u001b[39m \u001b[38;2;93;0;0mis\u001b[39m \u001b[38;2;154;0;0mcostly\u001b[39m \u001b[38;2;92;0;0mto\u001b[39m \u001b[38;2;100;0;0mmanually\u001b[39m \u001b[38;2;96;0;0mlocate\u001b[39m \u001b[38;2;59;0;0mthe\u001b[39m \u001b[38;2;103;0;0mpotential\u001b[39m \u001b[38;2;-25;0;0mbuggy\u001b[39m \u001b[38;2;68;0;0msource\u001b[39m \u001b[38;2;110;0;0mfiles\u001b[39m \u001b[38;2;102;0;0mbased\u001b[39m \u001b[38;2;58;0;0mon\u001b[39m \u001b[38;2;56;0;0mbug\u001b[39m \u001b[38;2;62;0;0mreports\u001b[39m \n",
      "\n",
      "In 2th dimension, the sentense looks like:\n",
      "\t\u001b[38;2;0;96;0monce\u001b[39m \u001b[38;2;0;113;0ma\u001b[39m \u001b[38;2;0;98;0mbug\u001b[39m \u001b[38;2;0;107;0mre\u001b[39m \u001b[38;2;0;118;0mport\u001b[39m \u001b[38;2;0;87;0mis\u001b[39m \u001b[38;2;0;87;0mreceived\u001b[39m \u001b[38;2;0;105;0mand\u001b[39m \u001b[38;2;0;109;0mverified\u001b[39m \u001b[38;2;0;108;0mthe\u001b[39m \u001b[38;2;0;101;0msoftware\u001b[39m \u001b[38;2;0;114;0mmaintenance\u001b[39m \u001b[38;2;0;105;0mteam\u001b[39m \u001b[38;2;0;125;0mwould\u001b[39m \u001b[38;2;0;117;0mread\u001b[39m \u001b[38;2;0;127;0mthe\u001b[39m \u001b[38;2;0;100;0mtextual\u001b[39m \u001b[38;2;0;170;0mdescription\u001b[39m \u001b[38;2;0;121;0mof\u001b[39m \u001b[38;2;0;99;0mthe\u001b[39m \u001b[38;2;0;89;0mbug\u001b[39m \u001b[38;2;0;111;0mreport\u001b[39m \u001b[38;2;0;170;0mto\u001b[39m \u001b[38;2;0;50;0mlocate\u001b[39m \u001b[38;2;0;220;0mthe\u001b[39m \u001b[38;2;0;199;0mpotential\u001b[39m \u001b[38;2;0;5;0mbuggy\u001b[39m \u001b[38;2;0;33;0msource\u001b[39m \u001b[38;2;0;27;0mfiles\u001b[39m \u001b[38;2;0;171;0min\u001b[39m \u001b[38;2;0;191;0mthe\u001b[39m \u001b[38;2;0;64;0msource\u001b[39m \u001b[38;2;0;117;0mcode\u001b[39m \u001b[38;2;0;104;0mand\u001b[39m \u001b[38;2;0;61;0massign\u001b[39m \u001b[38;2;0;99;0mappropriate\u001b[39m \u001b[38;2;0;105;0mdeveloper\u001b[39m \u001b[38;2;0;112;0mto\u001b[39m \u001b[38;2;0;126;0mfix\u001b[39m \u001b[38;2;0;58;0mthe\u001b[39m \u001b[38;2;0;77;0mbug\u001b[39m \u001b[38;2;0;121;0maccordingly\u001b[39m \u001b[38;2;0;88;0mhowever\u001b[39m \u001b[38;2;0;82;0mfor\u001b[39m \u001b[38;2;0;100;0mlarge\u001b[39m \u001b[38;2;0;105;0mand\u001b[39m \u001b[38;2;0;84;0mevolving\u001b[39m \u001b[38;2;0;126;0msoftware\u001b[39m \u001b[38;2;0;107;0mthe\u001b[39m \u001b[38;2;0;90;0mmaintenance\u001b[39m \u001b[38;2;0;103;0mteam\u001b[39m \u001b[38;2;0;111;0mmay\u001b[39m \u001b[38;2;0;111;0mreceive\u001b[39m \u001b[38;2;0;144;0ma\u001b[39m \u001b[38;2;0;100;0mlarge\u001b[39m \u001b[38;2;0;120;0mnumber\u001b[39m \u001b[38;2;0;208;0mof\u001b[39m \u001b[38;2;0;117;0mbug\u001b[39m \u001b[38;2;0;108;0mreports\u001b[39m \u001b[38;2;0;95;0mover\u001b[39m \u001b[38;2;0;131;0ma\u001b[39m \u001b[38;2;0;100;0mperiod\u001b[39m \u001b[38;2;0;68;0mof\u001b[39m \u001b[38;2;0;88;0mtime\u001b[39m \u001b[38;2;0;97;0mand\u001b[39m \u001b[38;2;0;102;0mit\u001b[39m \u001b[38;2;0;109;0mis\u001b[39m \u001b[38;2;0;116;0mcostly\u001b[39m \u001b[38;2;0;83;0mto\u001b[39m \u001b[38;2;0;100;0mmanually\u001b[39m \u001b[38;2;0;91;0mlocate\u001b[39m \u001b[38;2;0;62;0mthe\u001b[39m \u001b[38;2;0;97;0mpotential\u001b[39m \u001b[38;2;0;-40;0mbuggy\u001b[39m \u001b[38;2;0;24;0msource\u001b[39m \u001b[38;2;0;86;0mfiles\u001b[39m \u001b[38;2;0;104;0mbased\u001b[39m \u001b[38;2;0;9;0mon\u001b[39m \u001b[38;2;0;13;0mbug\u001b[39m \u001b[38;2;0;92;0mreports\u001b[39m \n",
      "\n",
      "In 3th dimension, the sentense looks like:\n",
      "\t\u001b[38;2;0;0;152monce\u001b[39m \u001b[38;2;0;0;139ma\u001b[39m \u001b[38;2;0;0;151mbug\u001b[39m \u001b[38;2;0;0;143mre\u001b[39m \u001b[38;2;0;0;135mport\u001b[39m \u001b[38;2;0;0;159mis\u001b[39m \u001b[38;2;0;0;159mreceived\u001b[39m \u001b[38;2;0;0;145mand\u001b[39m \u001b[38;2;0;0;142mverified\u001b[39m \u001b[38;2;0;0;143mthe\u001b[39m \u001b[38;2;0;0;148msoftware\u001b[39m \u001b[38;2;0;0;138mmaintenance\u001b[39m \u001b[38;2;0;0;145mteam\u001b[39m \u001b[38;2;0;0;130mwould\u001b[39m \u001b[38;2;0;0;136mread\u001b[39m \u001b[38;2;0;0;128mthe\u001b[39m \u001b[38;2;0;0;150mtextual\u001b[39m \u001b[38;2;0;0;93mdescription\u001b[39m \u001b[38;2;0;0;133mof\u001b[39m \u001b[38;2;0;0;150mthe\u001b[39m \u001b[38;2;0;0;157mbug\u001b[39m \u001b[38;2;0;0;140mreport\u001b[39m \u001b[38;2;0;0;94mto\u001b[39m \u001b[38;2;0;0;186mlocate\u001b[39m \u001b[38;2;0;0;51mthe\u001b[39m \u001b[38;2;0;0;69mpotential\u001b[39m \u001b[38;2;0;0;218mbuggy\u001b[39m \u001b[38;2;0;0;199msource\u001b[39m \u001b[38;2;0;0;202mfiles\u001b[39m \u001b[38;2;0;0;92min\u001b[39m \u001b[38;2;0;0;76mthe\u001b[39m \u001b[38;2;0;0;176msource\u001b[39m \u001b[38;2;0;0;136mcode\u001b[39m \u001b[38;2;0;0;146mand\u001b[39m \u001b[38;2;0;0;178massign\u001b[39m \u001b[38;2;0;0;150mappropriate\u001b[39m \u001b[38;2;0;0;145mdeveloper\u001b[39m \u001b[38;2;0;0;140mto\u001b[39m \u001b[38;2;0;0;129mfix\u001b[39m \u001b[38;2;0;0;163mthe\u001b[39m \u001b[38;2;0;0;166mbug\u001b[39m \u001b[38;2;0;0;133maccordingly\u001b[39m \u001b[38;2;0;0;158mhowever\u001b[39m \u001b[38;2;0;0;160mfor\u001b[39m \u001b[38;2;0;0;150mlarge\u001b[39m \u001b[38;2;0;0;145mand\u001b[39m \u001b[38;2;0;0;161mevolving\u001b[39m \u001b[38;2;0;0;129msoftware\u001b[39m \u001b[38;2;0;0;144mthe\u001b[39m \u001b[38;2;0;0;157mmaintenance\u001b[39m \u001b[38;2;0;0;147mteam\u001b[39m \u001b[38;2;0;0;140mmay\u001b[39m \u001b[38;2;0;0;130mreceive\u001b[39m \u001b[38;2;0;0;115ma\u001b[39m \u001b[38;2;0;0;150mlarge\u001b[39m \u001b[38;2;0;0;134mnumber\u001b[39m \u001b[38;2;0;0;57mof\u001b[39m \u001b[38;2;0;0;136mbug\u001b[39m \u001b[38;2;0;0;129mreports\u001b[39m \u001b[38;2;0;0;149mover\u001b[39m \u001b[38;2;0;0;125ma\u001b[39m \u001b[38;2;0;0;150mperiod\u001b[39m \u001b[38;2;0;0;173mof\u001b[39m \u001b[38;2;0;0;158mtime\u001b[39m \u001b[38;2;0;0;152mand\u001b[39m \u001b[38;2;0;0;148mit\u001b[39m \u001b[38;2;0;0;46mis\u001b[39m \u001b[38;2;0;0;-93mcostly\u001b[39m \u001b[38;2;0;0;162mto\u001b[39m \u001b[38;2;0;0;150mmanually\u001b[39m \u001b[38;2;0;0;156mlocate\u001b[39m \u001b[38;2;0;0;143mthe\u001b[39m \u001b[38;2;0;0;136mpotential\u001b[39m \u001b[38;2;0;0;598mbuggy\u001b[39m \u001b[38;2;0;0;204msource\u001b[39m \u001b[38;2;0;0;393mfiles\u001b[39m \u001b[38;2;0;0;146mbased\u001b[39m \u001b[38;2;0;0;239mon\u001b[39m \u001b[38;2;0;0;201mbug\u001b[39m \u001b[38;2;0;0;108mreports\u001b[39m \n",
      "\n",
      "In 4th dimension, the sentense looks like:\n",
      "\t\u001b[38;2;106;0;0monce\u001b[39m \u001b[38;2;75;0;0ma\u001b[39m \u001b[38;2;102;0;0mbug\u001b[39m \u001b[38;2;86;0;0mre\u001b[39m \u001b[38;2;67;0;0mport\u001b[39m \u001b[38;2;121;0;0mis\u001b[39m \u001b[38;2;120;0;0mreceived\u001b[39m \u001b[38;2;90;0;0mand\u001b[39m \u001b[38;2;83;0;0mverified\u001b[39m \u001b[38;2;86;0;0mthe\u001b[39m \u001b[38;2;97;0;0msoftware\u001b[39m \u001b[38;2;74;0;0mmaintenance\u001b[39m \u001b[38;2;89;0;0mteam\u001b[39m \u001b[38;2;54;0;0mwould\u001b[39m \u001b[38;2;69;0;0mread\u001b[39m \u001b[38;2;51;0;0mthe\u001b[39m \u001b[38;2;100;0;0mtextual\u001b[39m \u001b[38;2;-27;0;0mdescription\u001b[39m \u001b[38;2;63;0;0mof\u001b[39m \u001b[38;2;100;0;0mthe\u001b[39m \u001b[38;2;117;0;0mbug\u001b[39m \u001b[38;2;79;0;0mreport\u001b[39m \u001b[38;2;-27;0;0mto\u001b[39m \u001b[38;2;183;0;0mlocate\u001b[39m \u001b[38;2;-125;0;0mthe\u001b[39m \u001b[38;2;-83;0;0mpotential\u001b[39m \u001b[38;2;254;0;0mbuggy\u001b[39m \u001b[38;2;210;0;0msource\u001b[39m \u001b[38;2;219;0;0mfiles\u001b[39m \u001b[38;2;-30;0;0min\u001b[39m \u001b[38;2;-67;0;0mthe\u001b[39m \u001b[38;2;159;0;0msource\u001b[39m \u001b[38;2;69;0;0mcode\u001b[39m \u001b[38;2;92;0;0mand\u001b[39m \u001b[38;2;164;0;0massign\u001b[39m \u001b[38;2;101;0;0mappropriate\u001b[39m \u001b[38;2;89;0;0mdeveloper\u001b[39m \u001b[38;2;77;0;0mto\u001b[39m \u001b[38;2;53;0;0mfix\u001b[39m \u001b[38;2;195;0;0mthe\u001b[39m \u001b[38;2;137;0;0mbug\u001b[39m \u001b[38;2;62;0;0maccordingly\u001b[39m \u001b[38;2;119;0;0mhowever\u001b[39m \u001b[38;2;134;0;0mfor\u001b[39m \u001b[38;2;100;0;0mlarge\u001b[39m \u001b[38;2;90;0;0mand\u001b[39m \u001b[38;2;127;0;0mevolving\u001b[39m \u001b[38;2;53;0;0msoftware\u001b[39m \u001b[38;2;86;0;0mthe\u001b[39m \u001b[38;2;116;0;0mmaintenance\u001b[39m \u001b[38;2;93;0;0mteam\u001b[39m \u001b[38;2;79;0;0mmay\u001b[39m \u001b[38;2;94;0;0mreceive\u001b[39m \u001b[38;2;21;0;0ma\u001b[39m \u001b[38;2;100;0;0mlarge\u001b[39m \u001b[38;2;64;0;0mnumber\u001b[39m \u001b[38;2;-103;0;0mof\u001b[39m \u001b[38;2;69;0;0mbug\u001b[39m \u001b[38;2;105;0;0mreports\u001b[39m \u001b[38;2;112;0;0mover\u001b[39m \u001b[38;2;43;0;0ma\u001b[39m \u001b[38;2;100;0;0mperiod\u001b[39m \u001b[38;2;153;0;0mof\u001b[39m \u001b[38;2;119;0;0mtime\u001b[39m \u001b[38;2;105;0;0mand\u001b[39m \u001b[38;2;95;0;0mit\u001b[39m \u001b[38;2;111;0;0mis\u001b[39m \u001b[38;2;0;0;0mcostly\u001b[39m \u001b[38;2;128;0;0mto\u001b[39m \u001b[38;2;100;0;0mmanually\u001b[39m \u001b[38;2;114;0;0mlocate\u001b[39m \u001b[38;2;212;0;0mthe\u001b[39m \u001b[38;2;97;0;0mpotential\u001b[39m \u001b[38;2;430;0;0mbuggy\u001b[39m \u001b[38;2;223;0;0msource\u001b[39m \u001b[38;2;255;0;0mfiles\u001b[39m \u001b[38;2;91;0;0mbased\u001b[39m \u001b[38;2;255;0;0mon\u001b[39m \u001b[38;2;256;0;0mbug\u001b[39m \u001b[38;2;182;0;0mreports\u001b[39m "
     ]
    }
   ],
   "source": [
    "sentence = input('Please Input a sentence: ')\n",
    "encoded_docs = tokenizer.texts_to_sequences([sentence])\n",
    "docs_len = len(encoded_docs[0])\n",
    "padded_docs = keras.preprocessing.sequence.pad_sequences(encoded_docs, maxlen=MAX_LENGTH, padding='post')\n",
    "\n",
    "persenality = model.predict(padded_docs)\n",
    "output_persenality(persenality, original=True)\n",
    "\n",
    "\n",
    "modified_persenality_dict = {}\n",
    "for t in range(docs_len):\n",
    "    temp = padded_docs[0][t]\n",
    "    padded_docs[0][t] = 0\n",
    "    modified_persenality = model.predict(padded_docs)\n",
    "    output_persenality(modified_persenality)\n",
    "    modified_persenality_dict[t] = modified_persenality\n",
    "    padded_docs[0][t] = temp\n",
    "\n",
    "for t in range(docs_len):\n",
    "    for i in range(4):\n",
    "        modified_persenality_dict[t][0][i] -= persenality[0][i]\n",
    "    # print(modified_persenality_dict[t][0])\n",
    "\n",
    "from sty import fg\n",
    "reverse_word_map = dict(map(reversed, tokenizer.word_index.items()))\n",
    "\n",
    "red = [100,0,0,100]\n",
    "green = [0,100,0,0]\n",
    "blue = [0,0,150,0]\n",
    "red_inc = [1 if persenality[0][0]>0.5 else -1,0,0,1 if persenality[0][3]>0.5 else -1]\n",
    "green_inc = [0,1 if persenality[0][1]>0.5 else -1,0,0]\n",
    "blue_inc = [0,0,1 if persenality[0][2]>0.5 else -1,0]\n",
    "for i in range(4):\n",
    "    print(\"\\n\\nIn {}th dimension, the sentense looks like:\\n\\t\".format(i+1), end='')\n",
    "    for t in range(docs_len):\n",
    "        print(fg(int(red[i]+5*modified_persenality_dict[t][0][i]*1000*red_inc[i]),\n",
    "                 int(green[i]+5*modified_persenality_dict[t][0][i]*1000*green_inc[i]),\n",
    "                 int(blue[i]+5*modified_persenality_dict[t][0][i]*1000*blue_inc[i]))\n",
    "              + reverse_word_map[padded_docs[0][t]] + fg.rs,end=' ')"
   ]
  },
  {
   "cell_type": "code",
   "execution_count": null,
   "metadata": {},
   "outputs": [],
   "source": []
  }
 ],
 "metadata": {
  "kernelspec": {
   "display_name": "Python 3",
   "language": "python",
   "name": "python3"
  },
  "language_info": {
   "codemirror_mode": {
    "name": "ipython",
    "version": 3
   },
   "file_extension": ".py",
   "mimetype": "text/x-python",
   "name": "python",
   "nbconvert_exporter": "python",
   "pygments_lexer": "ipython3",
   "version": "3.6.8"
  }
 },
 "nbformat": 4,
 "nbformat_minor": 2
}
